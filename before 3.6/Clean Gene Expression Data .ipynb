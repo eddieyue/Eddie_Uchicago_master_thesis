{
 "cells": [
  {
   "cell_type": "code",
   "execution_count": 7,
   "metadata": {
    "collapsed": false,
    "scrolled": false
   },
   "outputs": [],
   "source": [
    "n = 1 \n",
    "fp = open(\"C:\\Users\\Sifu Yue\\Desktop\\Gene expression Data2.txt\", \"r\")\n",
    "fpp = open(\"C:\\Users\\Sifu Yue\\Desktop\\Processed Gene expression Data2\", \"w\")\n",
    "for lines in fp.readlines():\n",
    "    if n <= 6:\n",
    "        n += 1\n",
    "    else:\n",
    "        fpp.write(\" \".join(lines.split()[4:]) + \"\\n\")\n",
    "        n += 1\n",
    "fp.close()\n",
    "fpp.close()"
   ]
  },
  {
   "cell_type": "code",
   "execution_count": 15,
   "metadata": {
    "collapsed": false
   },
   "outputs": [],
   "source": [
    "n = 1 \n",
    "fp = open(\"C:\\Users\\Sifu Yue\\Desktop\\Gene expression Data1.txt\", \"r\")\n",
    "fpp = open(\"C:\\Users\\Sifu Yue\\Desktop\\Processed Gene expression Data1\", \"w\")\n",
    "for lines in fp.readlines():\n",
    "    if n <= 7:\n",
    "        n += 1\n",
    "    else:\n",
    "        fpp.write(\" \".join(lines.split()[6:]) + \"\\n\")\n",
    "        n += 1\n",
    "\n",
    "fp.close()\n",
    "fpp.close()"
   ]
  },
  {
   "cell_type": "code",
   "execution_count": null,
   "metadata": {
    "collapsed": true
   },
   "outputs": [],
   "source": []
  }
 ],
 "metadata": {
  "kernelspec": {
   "display_name": "Python 2",
   "language": "python",
   "name": "python2"
  },
  "language_info": {
   "codemirror_mode": {
    "name": "ipython",
    "version": 2
   },
   "file_extension": ".py",
   "mimetype": "text/x-python",
   "name": "python",
   "nbconvert_exporter": "python",
   "pygments_lexer": "ipython2",
   "version": "2.7.8"
  }
 },
 "nbformat": 4,
 "nbformat_minor": 0
}
